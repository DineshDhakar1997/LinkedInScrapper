{
 "cells": [
  {
   "cell_type": "code",
   "execution_count": 205,
   "id": "bb0cc2b9-8d10-4dde-b27e-bc7a10e31d13",
   "metadata": {},
   "outputs": [
    {
     "name": "stdout",
     "output_type": "stream",
     "text": [
      "zoom out to 25% and increase tab length and press enter here\n"
     ]
    },
    {
     "name": "stdin",
     "output_type": "stream",
     "text": [
      " \n"
     ]
    }
   ],
   "source": [
    "import time\n",
    "import pandas as pd\n",
    "from selenium.webdriver.common.by import By\n",
    "from selenium import webdriver\n",
    "from selenium.webdriver.common.keys import Keys\n",
    "import time\n",
    "from selenium.webdriver.common.by import By\n",
    "from selenium.webdriver.support.ui import WebDriverWait\n",
    "from selenium.webdriver.support import expected_conditions as EC\n",
    "from selenium.common.exceptions import NoSuchElementException\n",
    "\n",
    "\n",
    "# Replace with your LinkedIn credentials\n",
    "username = \"dhakardinesh1997@gmail.com\"\n",
    "password = \"Dha@9460.1\"\n",
    "\n",
    "# Open Chrome browser\n",
    "driver = webdriver.Chrome()\n",
    "\n",
    "# Navigate to LinkedIn\n",
    "driver.get(\"https://www.linkedin.com/login?fromSignIn=true&trk=guest_homepage-basic_nav-header-signin\")\n",
    "username=driver.find_element(By.XPATH,\"\"\"//*[@id=\"username\"]\"\"\")\n",
    "username.send_keys(\"dhakardinesh1997@gmail.com\")\n",
    "password=driver.find_element(By.XPATH,\"\"\"//*[@id=\"password\"]\"\"\")\n",
    "password.send_keys(\"Dha@9460.1\")\n",
    "password.send_keys(Keys.ENTER)\n",
    "# driver.get(\"https://www.linkedin.com/jobs\")\n",
    "# search_field=driver.find_element(By.XPATH,'//*[@id=\"jobs-search-box-keyword-id-ember25\"]')\n",
    "# search_field.send_keys(\"Software Engineer\")\n",
    "# search_field.send_keys(Keys.ENTER)\n",
    "print(\"zoom out to 25% and increase tab length and press enter here\")\n",
    "a=input()\n"
   ]
  },
  {
   "cell_type": "code",
   "execution_count": 206,
   "id": "a863b3f3-fc3d-4573-bb84-b75e8b6db739",
   "metadata": {},
   "outputs": [],
   "source": [
    "job_data = pd.DataFrame(columns=['Job Id','Job Title', 'Job Link', 'Company Name', 'Location', 'Connection Info'])\n",
    "\n",
    "def get_job_cards():\n",
    "    current_height = driver.execute_script(\"return document.body.scrollHeight\")\n",
    "    max_scrolls = 2\n",
    "    for _ in range(max_scrolls):\n",
    "        driver.execute_script(f\"window.scrollTo(0, {current_height});\")\n",
    "        time.sleep(1)\n",
    "        new_height = driver.execute_script(\"return document.body.scrollHeight\")\n",
    "        if new_height == current_height:\n",
    "            break\n",
    "        current_height = new_height\n",
    "    return driver.find_elements(By.CLASS_NAME, 'job-card-container')\n",
    "\n",
    "def export_jobs(job_cards,job_data):\n",
    "    for card in job_cards:\n",
    "        card_html = card.get_attribute('outerHTML')\n",
    "        soup = BeautifulSoup(card_html, 'html.parser')\n",
    "        job_title = soup.find('a', class_='job-card-list__title').text.strip() \\\n",
    "                    if soup.find('a', class_='job-card-list__title') else \"\"\n",
    "        job_link = soup.find('a', class_='job-card-list__title')['href'] \\\n",
    "                    if soup.find('a', class_='job-card-list__title') else \"\"\n",
    "        company_name = soup.find('span', class_='job-card-container__primary-description').text.strip() \\\n",
    "                        if soup.find('span', class_='job-card-container__primary-description') else \"\"\n",
    "        location = soup.find('li', class_='job-card-container__metadata-item').text.strip() \\\n",
    "                        if soup.find('li', class_='job-card-container__metadata-item') else \"\"\n",
    "        connection_info = soup.find('div', class_='job-card-container__job-insight-text').text.strip() \\\n",
    "                            if soup.find('div', class_='job-card-container__job-insight-text') else \"\"\n",
    "        job_id = soup.find('div', class_='job-card-container')['data-job-id'] \\\n",
    "                    if soup.find('div', class_='job-card-container')['data-job-id'] else \"\"\n",
    "    \n",
    "        temp_df = pd.DataFrame({'Job Id': [job_id],\n",
    "                            'Job Title': [job_title],\n",
    "                            'Job Link': [job_link],\n",
    "                            'Company Name': [company_name],\n",
    "                            'Location': [location],\n",
    "                            'Connection Info': [connection_info]})\n",
    "        job_data = pd.concat([job_data, temp_df], ignore_index=True)\n",
    "    return job_data\n",
    "\n",
    "        \n",
    "\n",
    "    \n",
    "    \n",
    "\n",
    "    "
   ]
  },
  {
   "cell_type": "code",
   "execution_count": 207,
   "id": "871a50fe-7e5e-4fa7-80e3-861c39cb6a48",
   "metadata": {},
   "outputs": [
    {
     "name": "stdout",
     "output_type": "stream",
     "text": [
      "page: 1\n",
      "page: 2\n",
      "page: 3\n",
      "page: 4\n",
      "page: 5\n",
      "page: 6\n",
      "page: 7\n",
      "page: 8\n",
      "page: 9\n",
      "page: 10\n",
      "page: 11\n",
      "page: 12\n"
     ]
    },
    {
     "ename": "WebDriverException",
     "evalue": "Message: disconnected: not connected to DevTools\n  (failed to check if window was closed: disconnected: not connected to DevTools)\n  (Session info: chrome=122.0.6261.94)\nStacktrace:\n0   chromedriver                        0x0000000106d952f8 chromedriver + 4625144\n1   chromedriver                        0x0000000106d8cea3 chromedriver + 4591267\n2   chromedriver                        0x000000010698be6a chromedriver + 392810\n3   chromedriver                        0x00000001069721a4 chromedriver + 287140\n4   chromedriver                        0x0000000106972093 chromedriver + 286867\n5   chromedriver                        0x000000010698e072 chromedriver + 401522\n6   chromedriver                        0x0000000106a1802b chromedriver + 966699\n7   chromedriver                        0x00000001069f9613 chromedriver + 841235\n8   chromedriver                        0x00000001069ca3da chromedriver + 648154\n9   chromedriver                        0x00000001069cad1e chromedriver + 650526\n10  chromedriver                        0x0000000106d55ac0 chromedriver + 4364992\n11  chromedriver                        0x0000000106d5ae86 chromedriver + 4386438\n12  chromedriver                        0x0000000106d3a72e chromedriver + 4253486\n13  chromedriver                        0x0000000106d5bbc9 chromedriver + 4389833\n14  chromedriver                        0x0000000106d2ca79 chromedriver + 4196985\n15  chromedriver                        0x0000000106d7bb78 chromedriver + 4520824\n16  chromedriver                        0x0000000106d7bd57 chromedriver + 4521303\n17  chromedriver                        0x0000000106d8cae3 chromedriver + 4590307\n18  libsystem_pthread.dylib             0x00007ff81552f202 _pthread_start + 99\n19  libsystem_pthread.dylib             0x00007ff81552abab thread_start + 15\n",
     "output_type": "error",
     "traceback": [
      "\u001b[0;31m---------------------------------------------------------------------------\u001b[0m",
      "\u001b[0;31mWebDriverException\u001b[0m                        Traceback (most recent call last)",
      "Cell \u001b[0;32mIn[207], line 7\u001b[0m\n\u001b[1;32m      5\u001b[0m time\u001b[38;5;241m.\u001b[39msleep(\u001b[38;5;241m4\u001b[39m)\n\u001b[1;32m      6\u001b[0m \u001b[38;5;28mprint\u001b[39m(\u001b[38;5;124mf\u001b[39m\u001b[38;5;124m\"\u001b[39m\u001b[38;5;124mpage: \u001b[39m\u001b[38;5;132;01m{\u001b[39;00mj\u001b[38;5;241m+\u001b[39m\u001b[38;5;241m1\u001b[39m\u001b[38;5;132;01m}\u001b[39;00m\u001b[38;5;124m\"\u001b[39m)\n\u001b[0;32m----> 7\u001b[0m job_cards\u001b[38;5;241m=\u001b[39m\u001b[43mget_job_cards\u001b[49m\u001b[43m(\u001b[49m\u001b[43m)\u001b[49m\n\u001b[1;32m      8\u001b[0m job_data\u001b[38;5;241m=\u001b[39mexport_jobs(job_cards,job_data)\n\u001b[1;32m      9\u001b[0m job_data\u001b[38;5;241m.\u001b[39mto_csv(\u001b[38;5;124mf\u001b[39m\u001b[38;5;124m\"\u001b[39m\u001b[38;5;124mjob_data_page\u001b[39m\u001b[38;5;132;01m{\u001b[39;00mj\u001b[38;5;241m+\u001b[39m\u001b[38;5;241m1\u001b[39m\u001b[38;5;132;01m}\u001b[39;00m\u001b[38;5;124m.csv\u001b[39m\u001b[38;5;124m\"\u001b[39m)\n",
      "Cell \u001b[0;32mIn[206], line 4\u001b[0m, in \u001b[0;36mget_job_cards\u001b[0;34m()\u001b[0m\n\u001b[1;32m      3\u001b[0m \u001b[38;5;28;01mdef\u001b[39;00m \u001b[38;5;21mget_job_cards\u001b[39m():\n\u001b[0;32m----> 4\u001b[0m     current_height \u001b[38;5;241m=\u001b[39m \u001b[43mdriver\u001b[49m\u001b[38;5;241;43m.\u001b[39;49m\u001b[43mexecute_script\u001b[49m\u001b[43m(\u001b[49m\u001b[38;5;124;43m\"\u001b[39;49m\u001b[38;5;124;43mreturn document.body.scrollHeight\u001b[39;49m\u001b[38;5;124;43m\"\u001b[39;49m\u001b[43m)\u001b[49m\n\u001b[1;32m      5\u001b[0m     max_scrolls \u001b[38;5;241m=\u001b[39m \u001b[38;5;241m2\u001b[39m\n\u001b[1;32m      6\u001b[0m     \u001b[38;5;28;01mfor\u001b[39;00m _ \u001b[38;5;129;01min\u001b[39;00m \u001b[38;5;28mrange\u001b[39m(max_scrolls):\n",
      "File \u001b[0;32m~/PycharmProjects/scrapper/.venv/lib/python3.12/site-packages/selenium/webdriver/remote/webdriver.py:407\u001b[0m, in \u001b[0;36mWebDriver.execute_script\u001b[0;34m(self, script, *args)\u001b[0m\n\u001b[1;32m    404\u001b[0m converted_args \u001b[38;5;241m=\u001b[39m \u001b[38;5;28mlist\u001b[39m(args)\n\u001b[1;32m    405\u001b[0m command \u001b[38;5;241m=\u001b[39m Command\u001b[38;5;241m.\u001b[39mW3C_EXECUTE_SCRIPT\n\u001b[0;32m--> 407\u001b[0m \u001b[38;5;28;01mreturn\u001b[39;00m \u001b[38;5;28;43mself\u001b[39;49m\u001b[38;5;241;43m.\u001b[39;49m\u001b[43mexecute\u001b[49m\u001b[43m(\u001b[49m\u001b[43mcommand\u001b[49m\u001b[43m,\u001b[49m\u001b[43m \u001b[49m\u001b[43m{\u001b[49m\u001b[38;5;124;43m\"\u001b[39;49m\u001b[38;5;124;43mscript\u001b[39;49m\u001b[38;5;124;43m\"\u001b[39;49m\u001b[43m:\u001b[49m\u001b[43m \u001b[49m\u001b[43mscript\u001b[49m\u001b[43m,\u001b[49m\u001b[43m \u001b[49m\u001b[38;5;124;43m\"\u001b[39;49m\u001b[38;5;124;43margs\u001b[39;49m\u001b[38;5;124;43m\"\u001b[39;49m\u001b[43m:\u001b[49m\u001b[43m \u001b[49m\u001b[43mconverted_args\u001b[49m\u001b[43m}\u001b[49m\u001b[43m)\u001b[49m[\u001b[38;5;124m\"\u001b[39m\u001b[38;5;124mvalue\u001b[39m\u001b[38;5;124m\"\u001b[39m]\n",
      "File \u001b[0;32m~/PycharmProjects/scrapper/.venv/lib/python3.12/site-packages/selenium/webdriver/remote/webdriver.py:347\u001b[0m, in \u001b[0;36mWebDriver.execute\u001b[0;34m(self, driver_command, params)\u001b[0m\n\u001b[1;32m    345\u001b[0m response \u001b[38;5;241m=\u001b[39m \u001b[38;5;28mself\u001b[39m\u001b[38;5;241m.\u001b[39mcommand_executor\u001b[38;5;241m.\u001b[39mexecute(driver_command, params)\n\u001b[1;32m    346\u001b[0m \u001b[38;5;28;01mif\u001b[39;00m response:\n\u001b[0;32m--> 347\u001b[0m     \u001b[38;5;28;43mself\u001b[39;49m\u001b[38;5;241;43m.\u001b[39;49m\u001b[43merror_handler\u001b[49m\u001b[38;5;241;43m.\u001b[39;49m\u001b[43mcheck_response\u001b[49m\u001b[43m(\u001b[49m\u001b[43mresponse\u001b[49m\u001b[43m)\u001b[49m\n\u001b[1;32m    348\u001b[0m     response[\u001b[38;5;124m\"\u001b[39m\u001b[38;5;124mvalue\u001b[39m\u001b[38;5;124m\"\u001b[39m] \u001b[38;5;241m=\u001b[39m \u001b[38;5;28mself\u001b[39m\u001b[38;5;241m.\u001b[39m_unwrap_value(response\u001b[38;5;241m.\u001b[39mget(\u001b[38;5;124m\"\u001b[39m\u001b[38;5;124mvalue\u001b[39m\u001b[38;5;124m\"\u001b[39m, \u001b[38;5;28;01mNone\u001b[39;00m))\n\u001b[1;32m    349\u001b[0m     \u001b[38;5;28;01mreturn\u001b[39;00m response\n",
      "File \u001b[0;32m~/PycharmProjects/scrapper/.venv/lib/python3.12/site-packages/selenium/webdriver/remote/errorhandler.py:229\u001b[0m, in \u001b[0;36mErrorHandler.check_response\u001b[0;34m(self, response)\u001b[0m\n\u001b[1;32m    227\u001b[0m         alert_text \u001b[38;5;241m=\u001b[39m value[\u001b[38;5;124m\"\u001b[39m\u001b[38;5;124malert\u001b[39m\u001b[38;5;124m\"\u001b[39m]\u001b[38;5;241m.\u001b[39mget(\u001b[38;5;124m\"\u001b[39m\u001b[38;5;124mtext\u001b[39m\u001b[38;5;124m\"\u001b[39m)\n\u001b[1;32m    228\u001b[0m     \u001b[38;5;28;01mraise\u001b[39;00m exception_class(message, screen, stacktrace, alert_text)  \u001b[38;5;66;03m# type: ignore[call-arg]  # mypy is not smart enough here\u001b[39;00m\n\u001b[0;32m--> 229\u001b[0m \u001b[38;5;28;01mraise\u001b[39;00m exception_class(message, screen, stacktrace)\n",
      "\u001b[0;31mWebDriverException\u001b[0m: Message: disconnected: not connected to DevTools\n  (failed to check if window was closed: disconnected: not connected to DevTools)\n  (Session info: chrome=122.0.6261.94)\nStacktrace:\n0   chromedriver                        0x0000000106d952f8 chromedriver + 4625144\n1   chromedriver                        0x0000000106d8cea3 chromedriver + 4591267\n2   chromedriver                        0x000000010698be6a chromedriver + 392810\n3   chromedriver                        0x00000001069721a4 chromedriver + 287140\n4   chromedriver                        0x0000000106972093 chromedriver + 286867\n5   chromedriver                        0x000000010698e072 chromedriver + 401522\n6   chromedriver                        0x0000000106a1802b chromedriver + 966699\n7   chromedriver                        0x00000001069f9613 chromedriver + 841235\n8   chromedriver                        0x00000001069ca3da chromedriver + 648154\n9   chromedriver                        0x00000001069cad1e chromedriver + 650526\n10  chromedriver                        0x0000000106d55ac0 chromedriver + 4364992\n11  chromedriver                        0x0000000106d5ae86 chromedriver + 4386438\n12  chromedriver                        0x0000000106d3a72e chromedriver + 4253486\n13  chromedriver                        0x0000000106d5bbc9 chromedriver + 4389833\n14  chromedriver                        0x0000000106d2ca79 chromedriver + 4196985\n15  chromedriver                        0x0000000106d7bb78 chromedriver + 4520824\n16  chromedriver                        0x0000000106d7bd57 chromedriver + 4521303\n17  chromedriver                        0x0000000106d8cae3 chromedriver + 4590307\n18  libsystem_pthread.dylib             0x00007ff81552f202 _pthread_start + 99\n19  libsystem_pthread.dylib             0x00007ff81552abab thread_start + 15\n"
     ]
    }
   ],
   "source": [
    "j = 0\n",
    "\n",
    "while True:\n",
    "    driver.get(f'https://www.linkedin.com/jobs/search/?keywords=Software%20Engineer&origin=JOBS_HOME_SEARCH_BUTTON&refresh=true&start={25*j}')\n",
    "    time.sleep(4)\n",
    "    print(f\"page: {j+1}\")\n",
    "    job_cards=get_job_cards()\n",
    "    job_data=export_jobs(job_cards,job_data)\n",
    "    job_data.to_csv(f\"job_data_page{j+1}.csv\")\n",
    "    j += 1\n",
    "\n"
   ]
  },
  {
   "cell_type": "code",
   "execution_count": null,
   "id": "0cb8c275-789c-4cdd-bafc-f295ca268bc7",
   "metadata": {},
   "outputs": [],
   "source": []
  }
 ],
 "metadata": {
  "kernelspec": {
   "display_name": "Python 3 (ipykernel)",
   "language": "python",
   "name": "python3"
  },
  "language_info": {
   "codemirror_mode": {
    "name": "ipython",
    "version": 3
   },
   "file_extension": ".py",
   "mimetype": "text/x-python",
   "name": "python",
   "nbconvert_exporter": "python",
   "pygments_lexer": "ipython3",
   "version": "3.12.2"
  }
 },
 "nbformat": 4,
 "nbformat_minor": 5
}
