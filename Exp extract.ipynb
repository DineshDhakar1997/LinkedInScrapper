{
 "cells": [
  {
   "cell_type": "code",
   "execution_count": 42,
   "id": "085ab6a2-b3c8-49c6-9703-63b48b74f79a",
   "metadata": {},
   "outputs": [
    {
     "name": "stderr",
     "output_type": "stream",
     "text": [
      "/Users/dineshdhakar/PycharmProjects/scrapper/.venv/lib/python3.12/site-packages/spacy/util.py:894: UserWarning: [W095] Model 'en_core_web_sm' (3.7.1) was trained with spaCy v3.7.2 and may not be 100% compatible with the current version (4.0.0.dev2). If you see errors or degraded performance, download a newer compatible model or retrain your custom model with the current spaCy version. For more details and available updates, run: python -m spacy validate\n",
      "  warnings.warn(warn_msg)\n"
     ]
    }
   ],
   "source": [
    "import pandas as pd\n",
    "import spacy\n",
    "\n",
    "# Now you can load the model\n",
    "nlp = spacy.load(\"en_core_web_sm\")\n",
    "\n",
    "\n"
   ]
  },
  {
   "cell_type": "code",
   "execution_count": 43,
   "id": "a23593e0-86f6-412a-a842-31e7904ba826",
   "metadata": {},
   "outputs": [],
   "source": [
    "# Function to extract experience from job description using NER\n",
    "def extract_experience(text):\n",
    "    doc = nlp(text)\n",
    "    experience = []\n",
    "    for ent in doc.ents:\n",
    "        if ent.label_ == \"DATE\" and (\"year\" in ent.text.lower() or \"yr\" in ent.text.lower()):\n",
    "            experience.append(ent.text)\n",
    "    return experience\n"
   ]
  },
  {
   "cell_type": "code",
   "execution_count": 45,
   "id": "d7a03cb9-83c1-4d77-81ae-6098d8f26ac4",
   "metadata": {},
   "outputs": [],
   "source": [
    "import pandas as pd\n",
    "import os\n",
    "if os.path.exists(\"job_data_desc_exp.csv\"):\n",
    "    df=pd.read_csv(\"job_data_desc_exp.csv\")\n",
    "else:\n",
    "    df = pd.read_csv(\"job_data_desc.csv\")\n",
    "    df[\"Exp\"]=None"
   ]
  },
  {
   "cell_type": "code",
   "execution_count": 47,
   "id": "8235a51d-51cd-4159-ada7-42c187e73149",
   "metadata": {},
   "outputs": [],
   "source": [
    "# Read CSV file\n",
    "import pandas as pd\n",
    "\n",
    "# Assuming df is your DataFrame containing the CSV data\n",
    "\n",
    "i = 0\n",
    "\n",
    "# Process job descriptions and extract experience\n",
    "for index, row in df.iterrows():\n",
    "    i += 1\n",
    "    job_title = row[\"Job Title\"]\n",
    "    \n",
    "    # Check if 'Extracted Text' is not NaN\n",
    "    if pd.notna(row['Extracted Text']):\n",
    "        # Convert to string and check length\n",
    "        if len(str(row['Extracted Text'])) > 10:\n",
    "            job_description = str(row['Extracted Text'])\n",
    "            experience = extract_experience(job_description)\n",
    "            df.at[index, \"Exp\"] = ', '.join(experience)\n"
   ]
  },
  {
   "cell_type": "code",
   "execution_count": 49,
   "id": "942385bd-5e06-4011-85c1-974697a4764f",
   "metadata": {},
   "outputs": [],
   "source": [
    "df.to_csv(\"job_data_desc_exp.csv\")"
   ]
  },
  {
   "cell_type": "code",
   "execution_count": null,
   "id": "97de8fba-ae3a-4e0b-b903-96a2aa50a160",
   "metadata": {},
   "outputs": [],
   "source": []
  }
 ],
 "metadata": {
  "kernelspec": {
   "display_name": "Python 3 (ipykernel)",
   "language": "python",
   "name": "python3"
  },
  "language_info": {
   "codemirror_mode": {
    "name": "ipython",
    "version": 3
   },
   "file_extension": ".py",
   "mimetype": "text/x-python",
   "name": "python",
   "nbconvert_exporter": "python",
   "pygments_lexer": "ipython3",
   "version": "3.12.2"
  }
 },
 "nbformat": 4,
 "nbformat_minor": 5
}
